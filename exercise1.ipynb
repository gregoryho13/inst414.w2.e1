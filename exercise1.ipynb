{
 "cells": [
  {
   "cell_type": "code",
   "execution_count": 2,
   "metadata": {},
   "outputs": [],
   "source": [
    "import json"
   ]
  },
  {
   "cell_type": "code",
   "execution_count": 14,
   "metadata": {},
   "outputs": [
    {
     "name": "stdout",
     "output_type": "stream",
     "text": [
      "6.816666666666665 36\n"
     ]
    }
   ],
   "source": [
    "count = 0\n",
    "avg = 0\n",
    "\n",
    "with open(\"imdb_movies_1985to2022.json\",\"r\") as in_file:\n",
    "    for line in in_file:\n",
    "\n",
    "        # print(line)\n",
    "        this_movie = json.loads(line)\n",
    "\n",
    "        actors = [x[1] for x in this_movie[\"actors\"]]\n",
    "\n",
    "        if 'Hugh Jackman' in actors:\n",
    "            # print(this_movie['rating']['avg'])\n",
    "            avg += this_movie['rating']['avg']\n",
    "            count += 1\n",
    "\n",
    "avg /= count\n",
    "\n",
    "print(avg, count)"
   ]
  },
  {
   "cell_type": "code",
   "execution_count": 7,
   "metadata": {},
   "outputs": [
    {
     "data": {
      "text/plain": [
       "{'imdb_id': 'tt0035423',\n",
       " 'title': 'Kate & Leopold',\n",
       " 'year': '2001',\n",
       " 'runtime': '118',\n",
       " 'genres': ['Comedy', 'Fantasy', 'Romance'],\n",
       " 'actors': [['nm0000212', 'Meg Ryan'],\n",
       "  ['nm0413168', 'Hugh Jackman'],\n",
       "  ['nm0000630', 'Liev Schreiber'],\n",
       "  ['nm0005227', 'Breckin Meyer']],\n",
       " 'rating': {'avg': 6.4, 'votes': 85923}}"
      ]
     },
     "execution_count": 7,
     "metadata": {},
     "output_type": "execute_result"
    }
   ],
   "source": [
    "this_movie"
   ]
  },
  {
   "cell_type": "code",
   "execution_count": null,
   "metadata": {},
   "outputs": [],
   "source": []
  }
 ],
 "metadata": {
  "kernelspec": {
   "display_name": "Python 3",
   "language": "python",
   "name": "python3"
  },
  "language_info": {
   "codemirror_mode": {
    "name": "ipython",
    "version": 3
   },
   "file_extension": ".py",
   "mimetype": "text/x-python",
   "name": "python",
   "nbconvert_exporter": "python",
   "pygments_lexer": "ipython3",
   "version": "3.11.1"
  },
  "orig_nbformat": 4,
  "vscode": {
   "interpreter": {
    "hash": "77fbab7113812958326bb21073a47f11230aec63ed356ebd6ce871b406501e54"
   }
  }
 },
 "nbformat": 4,
 "nbformat_minor": 2
}
